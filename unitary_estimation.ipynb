{
 "cells": [
  {
   "cell_type": "markdown",
   "metadata": {},
   "source": [
    "In this jupyter-notebook we show how to implement our method to estimate two-dimensional unitary gates. The script **experiments.py** contains the functions needed to carry out this task."
   ]
  },
  {
   "cell_type": "code",
   "execution_count": 1,
   "metadata": {},
   "outputs": [],
   "source": [
    "import numpy as np\n",
    "import qiskit.quantum_info as qi\n",
    "import pandas as pd\n",
    "import matplotlib.pyplot as plt\n",
    "\n",
    "from qiskit.extensions import UnitaryGate\n",
    "from qiskit.quantum_info.operators import Operator\n",
    "from qiskit_aer import AerSimulator\n",
    "from qiskit_aer.noise import NoiseModel\n",
    "from qiskit_ibm_runtime import QiskitRuntimeService\n",
    "\n",
    "from qiskit import (\n",
    "    QuantumCircuit, \n",
    "    QuantumRegister\n",
    ")\n",
    "\n",
    "from qiskit_experiments.library.tomography import ( \n",
    "    ProcessTomography, \n",
    "    MitigatedProcessTomography\n",
    ")\n",
    "\n",
    "from experiments import (\n",
    "    run_experiments, \n",
    "    UnitaryEstimation,\n",
    "    CustomNoiseModel\n",
    ")\n",
    "\n",
    "\n",
    "# from qiskit_ibm_provider import IBMProvider\n",
    "# IBMProvider.save_account(token='')\n",
    "\n",
    "service = QiskitRuntimeService()\n",
    "chosen_backen = service.get_backend('ibm_nairobi')\n",
    "# It is possible to chose another backend (see all available backends running service.backends()).\n",
    "\n",
    "noise_model = NoiseModel.from_backend(chosen_backen)\n",
    "\n",
    "%load_ext autoreload\n",
    "%autoreload 2"
   ]
  },
  {
   "cell_type": "markdown",
   "metadata": {},
   "source": [
    "### Define the model\n",
    "\n",
    "In the following lines one can chose wether *noise*, from the `noise_model` variable, is included in the model or not by setting `noisy` to `True`. Also, one can choose to apply *readout mitigation* by setting `rout_mitigation` to `True`."
   ]
  },
  {
   "cell_type": "code",
   "execution_count": 2,
   "metadata": {},
   "outputs": [],
   "source": [
    "noisy = True # With True, noise_model is applied in the experiment \n",
    "rout_mitigation = True  #Apply readout mitigation\n",
    "\n",
    "if noisy:\n",
    "    backend = AerSimulator(noise_model=noise_model)\n",
    "else:\n",
    "    backend = AerSimulator()\n",
    "\n",
    "#Chose a unitary gate at random. This is the one to be estimated\n",
    "target_unitary = qi.random_unitary(2).data \n",
    "\n",
    "#Create a qiskit.extensions.unitary.UnitaryGate instance from target_unitary\n",
    "target_gate = UnitaryGate(target_unitary) \n"
   ]
  },
  {
   "cell_type": "markdown",
   "metadata": {},
   "source": [
    "### Perform measurements and estimate the unknown `target_gate`"
   ]
  },
  {
   "cell_type": "code",
   "execution_count": 3,
   "metadata": {},
   "outputs": [],
   "source": [
    "# Select the size of the ensemble \n",
    "num_of_shots = 1000\n",
    "\n",
    "# Perform measurements\n",
    "pd1,pd2,pd3 = run_experiments(target_gate, \n",
    "                            backend, \n",
    "                            num_of_shots = num_of_shots, \n",
    "                            rout_mitigation = rout_mitigation)\n",
    "\n",
    "# Estimate the unitary gate\n",
    "estimated_unitary = UnitaryEstimation(pd1,pd2,pd3)\n",
    "\n",
    "# Compute the choi representation of \"estimated_unitary\"\n",
    "choi_miro = qi.Choi(Operator(estimated_unitary))"
   ]
  },
  {
   "cell_type": "markdown",
   "metadata": {},
   "source": [
    "### Compare the estimated gate with the target gate using the *averagre gate fidelity*\n",
    "\n",
    "https://qiskit.org/documentation/stable/0.19/stubs/qiskit.quantum_info.average_gate_fidelity.html"
   ]
  },
  {
   "cell_type": "code",
   "execution_count": 4,
   "metadata": {},
   "outputs": [
    {
     "name": "stdout",
     "output_type": "stream",
     "text": [
      "target_unitary was estimated with fidelity 0.9942080226519806\n"
     ]
    }
   ],
   "source": [
    "# Compute the fidelity \n",
    "fmiro = qi.average_gate_fidelity(choi_miro, target=Operator(target_unitary))\n",
    "\n",
    "print(f\"target_unitary was estimated with fidelity {fmiro}\")"
   ]
  },
  {
   "cell_type": "markdown",
   "metadata": {},
   "source": [
    "### Customize noise model\n",
    "In the next cell the noise model is customized. For example, let us estimate `target_unitary` considering an ideal **cnot** gate (`cx = 0`). Another values for errors affecting single qubit gates, conditional gates, thermal relaxation, and measurements are set."
   ]
  },
  {
   "cell_type": "code",
   "execution_count": 12,
   "metadata": {},
   "outputs": [
    {
     "name": "stderr",
     "output_type": "stream",
     "text": [
      "WARNING: quantum error already exists for instruction \"measure\" on qubits (0,) , appending additional error.\n",
      "WARNING: quantum error already exists for instruction \"sx\" on qubits (0,) , appending additional error.\n",
      "WARNING: quantum error already exists for instruction \"x\" on qubits (0,) , appending additional error.\n",
      "WARNING: quantum error already exists for instruction \"measure\" on qubits (1,) , appending additional error.\n",
      "WARNING: quantum error already exists for instruction \"sx\" on qubits (1,) , appending additional error.\n",
      "WARNING: quantum error already exists for instruction \"x\" on qubits (1,) , appending additional error.\n",
      "WARNING: quantum error already exists for instruction \"measure\" on qubits (2,) , appending additional error.\n",
      "WARNING: quantum error already exists for instruction \"sx\" on qubits (2,) , appending additional error.\n",
      "WARNING: quantum error already exists for instruction \"x\" on qubits (2,) , appending additional error.\n",
      "WARNING: quantum error already exists for instruction \"measure\" on qubits (3,) , appending additional error.\n",
      "WARNING: quantum error already exists for instruction \"sx\" on qubits (3,) , appending additional error.\n",
      "WARNING: quantum error already exists for instruction \"x\" on qubits (3,) , appending additional error.\n",
      "WARNING: quantum error already exists for instruction \"measure\" on qubits (4,) , appending additional error.\n",
      "WARNING: quantum error already exists for instruction \"sx\" on qubits (4,) , appending additional error.\n",
      "WARNING: quantum error already exists for instruction \"x\" on qubits (4,) , appending additional error.\n"
     ]
    }
   ],
   "source": [
    "t1 = 110e3    #110e3 nanoseconds\n",
    "t2 = 147e3   #147e3 nanoseconds\n",
    "sx_e = 0.00045\n",
    "rdt = 0.0841   #0.0841\n",
    "cx = 0 #0.0142\n",
    "\n",
    "#Relaxation times(ns)\n",
    "T1s = [t1 for i in range(5)]\n",
    "T2s = [t2 for i in range(5)]\n",
    "\n",
    "#Error probabilities\n",
    "sx_errors = [sx_e for i in range(5)]\n",
    "x_errors = [sx_e for i in range(5)]\n",
    "\n",
    "#readout_errors = [0.0406 , 0.0444 , 0.0841 , 0.0338 , 0.0362]\n",
    "readout_errors = [rdt for i in range(5)]\n",
    "\n",
    "# Instruction times (in nanoseconds)\n",
    "time_id = 0\n",
    "time_sx = 50 #50  # (single X90 pulse)\n",
    "time_x = 100 # (two X90 pulses)\n",
    "time_cx = 300\n",
    "time_reset = 1000  # 1 microsecond\n",
    "time_measure = 1000 # 1 microsecond\n",
    "\n",
    "#arguments for function\n",
    "cxs = [cx for i in range(4)]\n",
    "\n",
    "Rel_Ts = [T1s,T2s]\n",
    "Errores = [sx_errors,x_errors,cxs,readout_errors]\n",
    "Times = [time_id,time_sx,time_x,time_cx,time_reset,time_measure]\n",
    "\n",
    "customized_noise = CustomNoiseModel(Rel_Ts,Errores,Times)"
   ]
  },
  {
   "cell_type": "code",
   "execution_count": 13,
   "metadata": {},
   "outputs": [],
   "source": [
    "num_of_shots = 1000\n",
    "\n",
    "rout_mitigation = True  \n",
    "\n",
    "cpd1,cpd2,cpd3 = run_experiments(target_gate, \n",
    "                            AerSimulator(noise_model=customized_noise),  # Here the customized noise model is added\n",
    "                            num_of_shots = num_of_shots, \n",
    "                            rout_mitigation = rout_mitigation)\n",
    "\n",
    "# Estimate the unitary gate\n",
    "estimated_unitary_cnoise = UnitaryEstimation(cpd1,cpd2,cpd3)\n",
    "\n",
    "# Compute the choi representation of \"estimated_unitary\"\n",
    "choi_miro_cnoise = qi.Choi(Operator(estimated_unitary_cnoise))"
   ]
  },
  {
   "cell_type": "code",
   "execution_count": 14,
   "metadata": {},
   "outputs": [
    {
     "name": "stdout",
     "output_type": "stream",
     "text": [
      "Using the customized_noise model above, the\n",
      "target_unitary was estimated with fidelity 0.9996830728465204\n"
     ]
    }
   ],
   "source": [
    "fmiro_cnoise = qi.average_gate_fidelity(choi_miro_cnoise, target=Operator(target_unitary))\n",
    "\n",
    "print(f\"Using the customized_noise model above, the\")\n",
    "print(f\"target_unitary was estimated with fidelity {fmiro_cnoise}\")"
   ]
  },
  {
   "cell_type": "code",
   "execution_count": null,
   "metadata": {},
   "outputs": [],
   "source": []
  }
 ],
 "metadata": {
  "kernelspec": {
   "display_name": "Python 3 (ipykernel)",
   "language": "python",
   "name": "python3"
  },
  "language_info": {
   "codemirror_mode": {
    "name": "ipython",
    "version": 3
   },
   "file_extension": ".py",
   "mimetype": "text/x-python",
   "name": "python",
   "nbconvert_exporter": "python",
   "pygments_lexer": "ipython3",
   "version": "3.11.4"
  }
 },
 "nbformat": 4,
 "nbformat_minor": 2
}
